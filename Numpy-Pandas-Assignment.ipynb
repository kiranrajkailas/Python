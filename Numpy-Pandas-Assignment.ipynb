{
 "cells": [
  {
   "cell_type": "code",
   "execution_count": 1,
   "id": "5d0bc12a-9ebf-4c55-b2f9-d3c63aacfe20",
   "metadata": {},
   "outputs": [],
   "source": [
    "import numpy as np\n",
    "import pandas as pd"
   ]
  },
  {
   "cell_type": "code",
   "execution_count": 13,
   "id": "07630119-cdeb-45b5-b409-0eb96b0d8bd7",
   "metadata": {},
   "outputs": [
    {
     "name": "stdout",
     "output_type": "stream",
     "text": [
      "[ 1  2  3  4  5  6  7  8  9 10]\n",
      "The reshaped array is \n",
      ": [[ 1  2  3  4  5]\n",
      " [ 6  7  8  9 10]]\n"
     ]
    }
   ],
   "source": [
    "arr1=np.arange(1,11)\n",
    "print(arr1)\n",
    "reshape_arr1=arr1.reshape(2,5)\n",
    "print('The reshaped array is \\n:', reshape_arr1)"
   ]
  },
  {
   "cell_type": "code",
   "execution_count": 21,
   "id": "f304bef3-d180-4c6c-8f1f-3c5839ac968f",
   "metadata": {},
   "outputs": [
    {
     "name": "stdout",
     "output_type": "stream",
     "text": [
      "[ 1  2  3  4  5  6  7  8  9 10 11 12 13 14 15 16 17 18 19 20]\n",
      "The 5th element in the array is:  6\n",
      "The 15th element in the array is:  16\n"
     ]
    }
   ],
   "source": [
    "arr2=np.arange(1,21)\n",
    "print(arr2)\n",
    "i_5=arr2[5]\n",
    "i_15=arr2[15]\n",
    "print('The 5th element in the array is: ',i_5)\n",
    "print('The 15th element in the array is: ',i_15)"
   ]
  },
  {
   "cell_type": "code",
   "execution_count": 31,
   "id": "b1ffb7b0-b13f-4c8b-933c-e02aee21ed95",
   "metadata": {},
   "outputs": [
    {
     "name": "stdout",
     "output_type": "stream",
     "text": [
      "Apples     3\n",
      "Bananas    2\n",
      "Oranges    1\n",
      "dtype: int64\n",
      "The updated sereies is:\n",
      "  Apples     3\n",
      "Bananas    2\n",
      "Oranges    1\n",
      "Pears      4\n",
      "dtype: int64\n"
     ]
    }
   ],
   "source": [
    "series1=pd.Series({'Apples': 3, 'Bananas': 2, 'Oranges': 1})\n",
    "print(series1)\n",
    "series1['Pears']=4\n",
    "print('The updated sereies is:\\n ', series1)"
   ]
  },
  {
   "cell_type": "code",
   "execution_count": 63,
   "id": "3d5a8d20-8a5f-4842-bf37-a120a35def1a",
   "metadata": {},
   "outputs": [
    {
     "name": "stdout",
     "output_type": "stream",
     "text": [
      "    name  age  gender\n",
      "0   John   29    Male\n",
      "1   Anna   20    Male\n",
      "2  Akhil   31  Female\n",
      "3  Linda   36  Female\n",
      "4    Tom   24  Female\n",
      "5   Mary   40    Male\n",
      "6   Jack   20  Female\n",
      "7   Kate   20    Male\n",
      "8  Steve   20  Female\n",
      "9   Emma   43  Female\n"
     ]
    }
   ],
   "source": [
    "mydata={'name': ['John', 'Anna', 'Akhil', 'Linda', 'Tom', 'Mary', 'Jack', 'Kate', 'Steve', 'Emma'],\n",
    "        'age': np.random.randint(20, 45, 10),\n",
    "        'gender': np.random.choice(['Male', 'Female'], 10)}\n",
    "df1=pd.DataFrame(mydata)\n",
    "print(df1)"
   ]
  },
  {
   "cell_type": "code",
   "execution_count": 65,
   "id": "6aa6eba0-4169-4502-ace1-97748110cb15",
   "metadata": {},
   "outputs": [
    {
     "name": "stdout",
     "output_type": "stream",
     "text": [
      "    name  age  gender  occupation\n",
      "0   John   29    Male  Programmer\n",
      "1   Anna   20    Male     Manager\n",
      "2  Akhil   31  Female     Analyst\n",
      "3  Linda   36  Female  Programmer\n",
      "4    Tom   24  Female     Manager\n",
      "5   Mary   40    Male     Analyst\n",
      "6   Jack   20  Female  Programmer\n",
      "7   Kate   20    Male     Manager\n",
      "8  Steve   20  Female     Analyst\n",
      "9   Emma   43  Female  Programmer\n"
     ]
    }
   ],
   "source": [
    "occupation = np.tile(['Programmer', 'Manager', 'Analyst'], len(df1) // 3 + 1)[:len(df1)]\n",
    "df1['occupation'] = occupation\n",
    "print(df1)"
   ]
  },
  {
   "cell_type": "code",
   "execution_count": 69,
   "id": "dc847541-2b16-473f-b364-76a7f2d3f3e9",
   "metadata": {},
   "outputs": [
    {
     "name": "stdout",
     "output_type": "stream",
     "text": [
      "The rows with age greater than or equal to 30 are: \n",
      "     name  age  gender  occupation\n",
      "2  Akhil   31  Female     Analyst\n",
      "3  Linda   36  Female  Programmer\n",
      "5   Mary   40    Male     Analyst\n",
      "9   Emma   43  Female  Programmer\n"
     ]
    }
   ],
   "source": [
    "age_row=df1[df1['age']>=30]\n",
    "print('The rows with age greater than or equal to 30 are: \\n',age_row)"
   ]
  },
  {
   "cell_type": "code",
   "execution_count": 71,
   "id": "a1328d47-c2ed-4139-98ed-491538589a6b",
   "metadata": {},
   "outputs": [
    {
     "name": "stdout",
     "output_type": "stream",
     "text": [
      "    name  age  gender  occupation\n",
      "0   John   29    Male  Programmer\n",
      "1   Anna   20    Male     Manager\n",
      "2  Akhil   31  Female     Analyst\n",
      "3  Linda   36  Female  Programmer\n",
      "4    Tom   24  Female     Manager\n",
      "5   Mary   40    Male     Analyst\n",
      "6   Jack   20  Female  Programmer\n",
      "7   Kate   20    Male     Manager\n",
      "8  Steve   20  Female     Analyst\n",
      "9   Emma   43  Female  Programmer\n"
     ]
    }
   ],
   "source": [
    "df_to_csv=df1.to_csv('EmployeeData.csv',index=False)\n",
    "read_csv=pd.read_csv('EmployeeData.csv')\n",
    "print(read_csv)"
   ]
  },
  {
   "cell_type": "code",
   "execution_count": null,
   "id": "a09a6e36-2e9e-468d-b328-a3225b233e64",
   "metadata": {},
   "outputs": [],
   "source": []
  }
 ],
 "metadata": {
  "kernelspec": {
   "display_name": "Python [conda env:base] *",
   "language": "python",
   "name": "conda-base-py"
  },
  "language_info": {
   "codemirror_mode": {
    "name": "ipython",
    "version": 3
   },
   "file_extension": ".py",
   "mimetype": "text/x-python",
   "name": "python",
   "nbconvert_exporter": "python",
   "pygments_lexer": "ipython3",
   "version": "3.12.7"
  }
 },
 "nbformat": 4,
 "nbformat_minor": 5
}
