{
  "nbformat": 4,
  "nbformat_minor": 0,
  "metadata": {
    "colab": {
      "provenance": []
    },
    "kernelspec": {
      "name": "python3",
      "display_name": "Python 3"
    },
    "language_info": {
      "name": "python"
    }
  },
  "cells": [
    {
      "cell_type": "markdown",
      "source": [
        "## Data Structure in Python"
      ],
      "metadata": {
        "id": "wpKSCrE_YLyP"
      }
    },
    {
      "cell_type": "markdown",
      "source": [],
      "metadata": {
        "id": "_DAVbjCiYLJ-"
      }
    },
    {
      "cell_type": "markdown",
      "source": [
        "##### Topic:List"
      ],
      "metadata": {
        "id": "pH-BvhFHYU9v"
      }
    },
    {
      "cell_type": "code",
      "source": [
        "import numpy as np\n",
        "rand_num=np.random.randint(1,100,5)\n",
        "print('The list of 5 random numbers between 1 and 100:',rand_num)"
      ],
      "metadata": {
        "colab": {
          "base_uri": "https://localhost:8080/"
        },
        "id": "cBkG5xIzYXGI",
        "outputId": "19283e83-b691-4dd2-e860-2e03fd0c54ab"
      },
      "execution_count": null,
      "outputs": [
        {
          "output_type": "stream",
          "name": "stdout",
          "text": [
            "The list of 5 random numbers between 1 and 100: [75 51 43 66 76]\n"
          ]
        }
      ]
    },
    {
      "cell_type": "code",
      "source": [
        "new_list=np.array([20, 8, 15])\n",
        "updated_list=np.append(rand_num, new_list)\n",
        "print('The updated list is: ',updated_list)"
      ],
      "metadata": {
        "colab": {
          "base_uri": "https://localhost:8080/"
        },
        "id": "3N4UpLkyYhcR",
        "outputId": "eb574087-31ff-4375-8e5e-db1ca3eb7d76"
      },
      "execution_count": null,
      "outputs": [
        {
          "output_type": "stream",
          "name": "stdout",
          "text": [
            "The updated list is:  [75 51 43 66 76 20  8 15]\n"
          ]
        }
      ]
    },
    {
      "cell_type": "code",
      "source": [
        "for i in updated_list:\n",
        "  print(i)"
      ],
      "metadata": {
        "colab": {
          "base_uri": "https://localhost:8080/"
        },
        "id": "L4C-c2mxaD7B",
        "outputId": "c3da207e-a6e2-4a02-e8d4-4a9aa7680ec5"
      },
      "execution_count": null,
      "outputs": [
        {
          "output_type": "stream",
          "name": "stdout",
          "text": [
            "75\n",
            "51\n",
            "43\n",
            "66\n",
            "76\n",
            "20\n",
            "8\n",
            "15\n"
          ]
        }
      ]
    },
    {
      "cell_type": "markdown",
      "source": [
        "##### Topic:Dictionary"
      ],
      "metadata": {
        "id": "B_AuC0Lwi3O9"
      }
    },
    {
      "cell_type": "code",
      "source": [
        "person_dict={'Name': 'John','Age': '25','Address': 'Newyork'}\n",
        "print('The dictionary created is: ', person_dict)\n",
        "\n",
        "person_dict['Phone']='1234567890'\n",
        "print('The updated dictionary is: ', person_dict)"
      ],
      "metadata": {
        "colab": {
          "base_uri": "https://localhost:8080/"
        },
        "id": "2TqhCJ8Xi5IH",
        "outputId": "4f434bb7-73ad-48c8-b1c0-fdd9ba0762af"
      },
      "execution_count": null,
      "outputs": [
        {
          "output_type": "stream",
          "name": "stdout",
          "text": [
            "The dictionary created is:  {'Name': 'John', 'Age': '25', 'Address': 'Newyork'}\n",
            "The updated dictionary is:  {'Name': 'John', 'Age': '25', 'Address': 'Newyork', 'Phone': '1234567890'}\n"
          ]
        }
      ]
    },
    {
      "cell_type": "markdown",
      "source": [
        "##### Topic: Set"
      ],
      "metadata": {
        "id": "3A1dITSYj_lX"
      }
    },
    {
      "cell_type": "code",
      "source": [
        "new_set={1,2,3,4,5}\n",
        "print('The created set is: ', new_set)\n",
        "new_set.add(6)\n",
        "print('The updated set is: ', new_set)\n",
        "new_set.remove(3)\n",
        "print('The set after removing 3 is: ', new_set)"
      ],
      "metadata": {
        "colab": {
          "base_uri": "https://localhost:8080/"
        },
        "id": "mVkJVTe4kBsu",
        "outputId": "ba2f49d5-983e-4408-9d73-37b17b131d49"
      },
      "execution_count": null,
      "outputs": [
        {
          "output_type": "stream",
          "name": "stdout",
          "text": [
            "The created set is:  {1, 2, 3, 4, 5}\n",
            "The updated set is:  {1, 2, 3, 4, 5, 6}\n",
            "The set after removing 3 is:  {1, 2, 4, 5, 6}\n"
          ]
        }
      ]
    },
    {
      "cell_type": "markdown",
      "source": [
        "##### Topic: Tuple"
      ],
      "metadata": {
        "id": "v58pTDopk1TA"
      }
    },
    {
      "cell_type": "code",
      "source": [
        "new_tuple=(1,2,3,4)\n",
        "print('The tuple just created is: ',new_tuple)\n",
        "print('The length of the created tuple is: ',len(new_tuple))"
      ],
      "metadata": {
        "colab": {
          "base_uri": "https://localhost:8080/"
        },
        "id": "VdXOUO-Vk3en",
        "outputId": "c18e44c7-763c-47ff-85ee-6b034ddcaab1"
      },
      "execution_count": null,
      "outputs": [
        {
          "output_type": "stream",
          "name": "stdout",
          "text": [
            "The tuple just created is:  (1, 2, 3, 4)\n",
            "The length of the created tuple is:  4\n"
          ]
        }
      ]
    },
    {
      "cell_type": "code",
      "source": [],
      "metadata": {
        "id": "3wSBiUGSlF-G"
      },
      "execution_count": null,
      "outputs": []
    }
  ]
}