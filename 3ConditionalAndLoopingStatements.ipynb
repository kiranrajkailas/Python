{
  "nbformat": 4,
  "nbformat_minor": 0,
  "metadata": {
    "colab": {
      "provenance": []
    },
    "kernelspec": {
      "name": "python3",
      "display_name": "Python 3"
    },
    "language_info": {
      "name": "python"
    }
  },
  "cells": [
    {
      "cell_type": "markdown",
      "source": [
        "##### Exercise 1"
      ],
      "metadata": {
        "id": "4Z8jeAMblJ3r"
      }
    },
    {
      "cell_type": "code",
      "source": [
        "cal_month=int(input('Enter a number between 1 and 12:'))\n",
        "month=['January','February','March','April','May','June','July','August','September','October','November','December']\n",
        "if cal_month <1 or cal_month >12:\n",
        "  print('Warning: Please enter a number between 1 and 12.')\n",
        "else:\n",
        "  print('The month you entered is ', month[cal_month-1])\n"
      ],
      "metadata": {
        "colab": {
          "base_uri": "https://localhost:8080/"
        },
        "id": "KWN9Th1BlPXj",
        "outputId": "3866459e-2f45-4afa-c9bc-00ec64fb19d2"
      },
      "execution_count": null,
      "outputs": [
        {
          "output_type": "stream",
          "name": "stdout",
          "text": [
            "Enter a number between 1 and 12:4\n",
            "The month you entered is  April\n"
          ]
        }
      ]
    },
    {
      "cell_type": "markdown",
      "source": [
        "##### Exercise 2"
      ],
      "metadata": {
        "id": "cel2hHGuqP3R"
      }
    },
    {
      "cell_type": "code",
      "source": [
        "normal_price=6\n",
        "Age=int(input('Please enter your age: '))\n",
        "if Age<16:\n",
        "  ticket_price=normal_price/2\n",
        "  print(f'Your ticket costs \\u00a3{ticket_price:0.2f} ')\n",
        "elif Age>60:\n",
        "  ticket_price=normal_price/3\n",
        "  print(f'Your ticket costs \\u00a3{ticket_price:0.2f} ')\n",
        "else:\n",
        "  ticket_price=normal_price\n",
        "  print(f'Your ticket costs \\u00a3{ticket_price:0.2f} ')"
      ],
      "metadata": {
        "id": "pNnc7Hhtnqcj",
        "colab": {
          "base_uri": "https://localhost:8080/"
        },
        "outputId": "5c2397aa-deea-425b-c0c9-d6e4734db36b"
      },
      "execution_count": null,
      "outputs": [
        {
          "output_type": "stream",
          "name": "stdout",
          "text": [
            "Please enter your age: 65\n",
            "Your ticket costs £2.00 \n"
          ]
        }
      ]
    },
    {
      "cell_type": "markdown",
      "source": [
        "##### Exercise 3"
      ],
      "metadata": {
        "id": "XlkK5ONbqU4x"
      }
    },
    {
      "cell_type": "code",
      "source": [
        "your_weight=float(input('Please enter your weight (kg): '))\n",
        "your_height=float(input('Please enter your height (m): '))\n",
        "BMI=your_weight/your_height/your_height\n",
        "if BMI<18.5:\n",
        "  print(f'Your BMI is {BMI:0.2f}. You are underweight.')\n",
        "elif BMI >18.5 and BMI<24.9:\n",
        "  print(f'Your BMI is {BMI:0.2f}. Your BMI falls in the normal regime :).')\n",
        "elif BMI >24.9 and BMI<29.9:\n",
        "  print(f'Your BMI is {BMI:0.2f}. You are overweight.')\n",
        "elif BMI >29.9:\n",
        "  print(f'Your BMI is {BMI:0.2f}. You are obese.')"
      ],
      "metadata": {
        "colab": {
          "base_uri": "https://localhost:8080/"
        },
        "id": "rR6AkCKmp9Zi",
        "outputId": "06deea9b-4287-48bf-a6d8-90f69cad6da5"
      },
      "execution_count": null,
      "outputs": [
        {
          "output_type": "stream",
          "name": "stdout",
          "text": [
            "Please enter your weight (kg): 50\n",
            "Please enter your height (m): 1.50\n",
            "Your BMI is 22.22. Your BMI falls in the normal regime :).\n"
          ]
        }
      ]
    },
    {
      "cell_type": "markdown",
      "source": [
        "##### Exercise 4"
      ],
      "metadata": {
        "id": "y0tq8X1hthfC"
      }
    },
    {
      "cell_type": "code",
      "source": [
        "num_1=float(input('Enter the first number: '))\n",
        "num_2=float(input('Enter the second number: '))\n",
        "num_3=float(input('Enter the third number: '))\n",
        "if num_1> num_2 and num_1>num_3:\n",
        "  print(f'The number {num_1:0.2f} is the greatest.')\n",
        "elif num_2> num_1 and num_2>num_3:\n",
        "  print(f'The number {num_2:0.2f} is the greatest.')\n",
        "elif num_3> num_1 and num_3>num_2:\n",
        "  print(f'The number {num_3:0.2f} is the greatest.')"
      ],
      "metadata": {
        "colab": {
          "base_uri": "https://localhost:8080/"
        },
        "id": "mDaX8QqatjLx",
        "outputId": "0d23a081-0542-424f-96cb-66c4c0033814"
      },
      "execution_count": null,
      "outputs": [
        {
          "output_type": "stream",
          "name": "stdout",
          "text": [
            "Enter the first number: -1.05\n",
            "Enter the second number: 50.75\n",
            "Enter the third number: 29.98\n",
            "The number 50.75 is the greatest.\n"
          ]
        }
      ]
    },
    {
      "cell_type": "markdown",
      "source": [
        "##### Exercise 5"
      ],
      "metadata": {
        "id": "q3Jfkj5Su79J"
      }
    },
    {
      "cell_type": "code",
      "source": [
        "while True:\n",
        "  try:\n",
        "    num1=int(input('Enter any positive integer: '))\n",
        "    break\n",
        "  except ValueError:\n",
        "    print('Floats are not allowed. Please enter any positive integer.')\n",
        "init_num=num1\n",
        "for i in range(2,num1+1):\n",
        "  num1=num1*(i-1)\n",
        "print(f'The factorial of {init_num} is',num1)"
      ],
      "metadata": {
        "colab": {
          "base_uri": "https://localhost:8080/"
        },
        "id": "wX_t-jxVu-GY",
        "outputId": "e76619ee-1ae5-4da6-fbeb-29e264a70fb4"
      },
      "execution_count": null,
      "outputs": [
        {
          "output_type": "stream",
          "name": "stdout",
          "text": [
            "Enter any positive integer: 5.5\n",
            "Floats are not allowed. Please enter any positive integer.\n",
            "Enter any positive integer: 5\n",
            "The factorial of 5 is 120\n"
          ]
        }
      ]
    },
    {
      "cell_type": "markdown",
      "source": [
        "##### Exercise 6"
      ],
      "metadata": {
        "id": "Lrn4Rx_xzYCB"
      }
    },
    {
      "cell_type": "code",
      "source": [
        "num2=int(input('Enter any positive integer: '))\n",
        "rev_num=0\n",
        "remainder=0\n",
        "while num2!=0:\n",
        "  remainder=num2%10\n",
        "  print('Remainder=',remainder)\n",
        "  rev_num=remainder+rev_num*10\n",
        "  print('rev_num=',rev_num)\n",
        "  num2=num2//10\n",
        "  print('num2=',num2)\n",
        "  print('------------------------')\n",
        "print('The reversed number is: ',rev_num)"
      ],
      "metadata": {
        "colab": {
          "base_uri": "https://localhost:8080/"
        },
        "id": "P11m3m_6zaPo",
        "outputId": "fecd50f1-2a28-4c98-8b07-5638bfeb637a"
      },
      "execution_count": null,
      "outputs": [
        {
          "output_type": "stream",
          "name": "stdout",
          "text": [
            "Enter any positive integer: 2465\n",
            "Remainder= 5\n",
            "rev_num= 5\n",
            "num2= 246\n",
            "------------------------\n",
            "Remainder= 6\n",
            "rev_num= 56\n",
            "num2= 24\n",
            "------------------------\n",
            "Remainder= 4\n",
            "rev_num= 564\n",
            "num2= 2\n",
            "------------------------\n",
            "Remainder= 2\n",
            "rev_num= 5642\n",
            "num2= 0\n",
            "------------------------\n",
            "The reversed number is:  5642\n"
          ]
        }
      ]
    },
    {
      "cell_type": "markdown",
      "source": [
        "##### Exercise 7"
      ],
      "metadata": {
        "id": "praleqnd6acK"
      }
    },
    {
      "cell_type": "code",
      "source": [
        "num3=int(input('Enter any positive integer:'))\n",
        "no_of_multiples=int(input('Enter how many multiples do you need:'))\n",
        "print(f'The first {no_of_multiples} multiples of the number {num3} are:')\n",
        "for i in range(1,no_of_multiples+1):\n",
        "  multiple=num3*i\n",
        "  print(multiple)"
      ],
      "metadata": {
        "colab": {
          "base_uri": "https://localhost:8080/"
        },
        "id": "Ow7d-6L81ldy",
        "outputId": "3be6f6b9-1628-4e48-9c49-672a5fa4b0d3"
      },
      "execution_count": null,
      "outputs": [
        {
          "output_type": "stream",
          "name": "stdout",
          "text": [
            "Enter any positive integer:7\n",
            "Enter how many multiples do you need:18\n",
            "The first 18 multiples of the number 7 are:\n",
            "7\n",
            "14\n",
            "21\n",
            "28\n",
            "35\n",
            "42\n",
            "49\n",
            "56\n",
            "63\n",
            "70\n",
            "77\n",
            "84\n",
            "91\n",
            "98\n",
            "105\n",
            "112\n",
            "119\n",
            "126\n"
          ]
        }
      ]
    },
    {
      "cell_type": "markdown",
      "source": [
        "##### Exercise 8"
      ],
      "metadata": {
        "id": "HAYouzSd-7bp"
      }
    },
    {
      "cell_type": "code",
      "source": [
        "while True:\n",
        "    my_input = input(\"Enter any text: \")\n",
        "    if my_input.lower() == 'done':\n",
        "        break\n",
        "    print(my_input)"
      ],
      "metadata": {
        "colab": {
          "base_uri": "https://localhost:8080/"
        },
        "id": "JufbbYmC-D1S",
        "outputId": "4a191bea-5415-467c-b701-d5952cc18f88"
      },
      "execution_count": null,
      "outputs": [
        {
          "name": "stdout",
          "output_type": "stream",
          "text": [
            "Enter any text: hello\n",
            "hello\n",
            "Enter any text: This is Kiran\n",
            "This is Kiran\n",
            "Enter any text: Done\n"
          ]
        }
      ]
    },
    {
      "cell_type": "markdown",
      "source": [
        "##### Exercise 9"
      ],
      "metadata": {
        "id": "N6ZQo3NPHN_a"
      }
    },
    {
      "cell_type": "code",
      "source": [
        "for i in range(1,16):\n",
        "  if i%3==0 and i%5==0:\n",
        "    print('FizzBuzz')\n",
        "  elif i%5==0:\n",
        "    print('Buzz')\n",
        "  elif i%3==0 :\n",
        "    print('Fizz')\n",
        "  else:\n",
        "    print(i)\n"
      ],
      "metadata": {
        "colab": {
          "base_uri": "https://localhost:8080/"
        },
        "id": "Zb-ZfHW7_dnj",
        "outputId": "2593c970-9ba7-4e14-ad72-e43eef0ac9a6"
      },
      "execution_count": null,
      "outputs": [
        {
          "output_type": "stream",
          "name": "stdout",
          "text": [
            "1\n",
            "2\n",
            "Fizz\n",
            "4\n",
            "Buzz\n",
            "Fizz\n",
            "7\n",
            "8\n",
            "Fizz\n",
            "Buzz\n",
            "11\n",
            "Fizz\n",
            "13\n",
            "14\n",
            "FizzBuzz\n"
          ]
        }
      ]
    },
    {
      "cell_type": "markdown",
      "source": [
        "##### Exercise 10"
      ],
      "metadata": {
        "id": "idauMSmmIXYf"
      }
    },
    {
      "cell_type": "code",
      "source": [
        "Nrows = 5\n",
        "for i in range(Nrows,0,-1):\n",
        "    for j in range(i, 0, -1):\n",
        "        print(j,end=' ')\n",
        "    print()"
      ],
      "metadata": {
        "colab": {
          "base_uri": "https://localhost:8080/"
        },
        "id": "C6PqWOLjH0bK",
        "outputId": "c0ad8455-aece-44ee-d6f1-10f2ab12f7f8"
      },
      "execution_count": null,
      "outputs": [
        {
          "output_type": "stream",
          "name": "stdout",
          "text": [
            "5 4 3 2 1 \n",
            "4 3 2 1 \n",
            "3 2 1 \n",
            "2 1 \n",
            "1 \n"
          ]
        }
      ]
    },
    {
      "cell_type": "code",
      "source": [],
      "metadata": {
        "id": "Vs_zobCNIwYr"
      },
      "execution_count": null,
      "outputs": []
    }
  ]
}