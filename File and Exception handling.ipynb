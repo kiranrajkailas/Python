{
 "cells": [
  {
   "cell_type": "code",
   "execution_count": 2,
   "id": "3cfa0c65-e4dc-477f-bf05-79d0452720dc",
   "metadata": {},
   "outputs": [],
   "source": [
    "import numpy as np\n",
    "import pandas as pd"
   ]
  },
  {
   "cell_type": "markdown",
   "id": "9184c398-b9c9-480d-901b-94cdad60ad0f",
   "metadata": {},
   "source": [
    "## Write a Python program to read a file and display its contents\n"
   ]
  },
  {
   "cell_type": "code",
   "execution_count": 4,
   "id": "65bff544-43a1-4e0c-9931-faf97f612155",
   "metadata": {},
   "outputs": [
    {
     "name": "stdout",
     "output_type": "stream",
     "text": [
      "The content of the file is given below:\n",
      "This is a demo file created for the purpose of doing an assignment on File exception and handling. This file does not contain any other useful information.\n"
     ]
    }
   ],
   "source": [
    "with open('Assignment.txt','r') as abc:\n",
    "    content=abc.read()\n",
    "    print('The content of the file is given below:')\n",
    "    print(content)"
   ]
  },
  {
   "cell_type": "markdown",
   "id": "f3da3432-708a-4391-9764-e2062b328aab",
   "metadata": {},
   "source": [
    "## Write a Python program to copy the contents of one file to another file\n"
   ]
  },
  {
   "cell_type": "code",
   "execution_count": 8,
   "id": "5e42f69a-f129-4490-b045-2716e409deb2",
   "metadata": {},
   "outputs": [
    {
     "name": "stdout",
     "output_type": "stream",
     "text": [
      "The content of the copied file is given below:\n",
      "This is a demo file created for the purpose of doing an assignment on File exception and handling. This file does not contain any other useful information.\n"
     ]
    }
   ],
   "source": [
    "with open('Assignment.txt','r') as source:\n",
    "    content=source.read()\n",
    "with open('Assignment-Copy.txt','w') as destination:\n",
    "    destination.write(content)\n",
    "print('The content of the copied file is given below:')\n",
    "with open('Assignment-Copy.txt','r') as abc:\n",
    "    content=abc.read()\n",
    "    print(content)"
   ]
  },
  {
   "cell_type": "markdown",
   "id": "c9b852c3-2008-4e1e-9fc1-502576abc5dd",
   "metadata": {},
   "source": [
    "## Write a Python program to read the content of a file and count the total number of words in that file.\n"
   ]
  },
  {
   "cell_type": "code",
   "execution_count": 14,
   "id": "9a575c8c-a09d-4de3-92c7-4dff538629e3",
   "metadata": {},
   "outputs": [
    {
     "name": "stdout",
     "output_type": "stream",
     "text": [
      "The length of the words is:  27\n"
     ]
    }
   ],
   "source": [
    "with open('Assignment.txt','r') as abc:\n",
    "    content=abc.read()\n",
    "    no_words=content.split()\n",
    "    len_words=len(no_words)\n",
    "    print('The length of the words is: ', len_words)"
   ]
  },
  {
   "cell_type": "markdown",
   "id": "521a298a-b0ed-442b-ab1a-8d9637dc88b6",
   "metadata": {},
   "source": [
    "## Write a Python program that prompts the user to input a string and converts it to an integer. Use try-except blocks to handle any exceptions that might occur\n"
   ]
  },
  {
   "cell_type": "code",
   "execution_count": 24,
   "id": "3e3e43d0-a112-40cf-91f9-5541f1bf24ab",
   "metadata": {},
   "outputs": [
    {
     "name": "stdin",
     "output_type": "stream",
     "text": [
      "Enter a string to convert to an integer:  8745\n"
     ]
    },
    {
     "name": "stdout",
     "output_type": "stream",
     "text": [
      "The entered input is 8745 of type: <class 'str'>\n",
      "The converted integer is 8745 of type: <class 'int'>\n"
     ]
    }
   ],
   "source": [
    "input_str = input(\"Enter a string to convert to an integer: \")\n",
    "try:\n",
    "    input_type=type(input_str)\n",
    "    print(f'The entered input is {input_str} of type: {input_type}')\n",
    "    converted_int = int(input_str)\n",
    "    print(f\"The converted integer is {converted_int} of type: {type(converted_int)}\")\n",
    "except ValueError:\n",
    "    print(\"Error: The input string cannot be converted to an integer.\")\n",
    "except Exception as exp:\n",
    "    print(f\"An unexpected error occurred: {exp}\")"
   ]
  },
  {
   "cell_type": "markdown",
   "id": "815e7993-6a63-4d82-8ca3-699473407680",
   "metadata": {},
   "source": [
    "## Write a Python program that prompts the user to input a list of integers and raises an exception if any of the integers in the list are negative.\n"
   ]
  },
  {
   "cell_type": "code",
   "execution_count": 30,
   "id": "b3b649a3-0849-473e-b765-f4f198cc9f77",
   "metadata": {},
   "outputs": [
    {
     "name": "stdin",
     "output_type": "stream",
     "text": [
      "Enter a list of integers seperated by space:  545 86 5 1 -98 552 4 52 -7\n"
     ]
    },
    {
     "name": "stdout",
     "output_type": "stream",
     "text": [
      "Error: Negative integers are not allowed\n"
     ]
    }
   ],
   "source": [
    "input_str = input(\"Enter a list of integers seperated by space: \")\n",
    "try:\n",
    "    input_list = [int(num) for num in input_str.split()]\n",
    "except ValueError:\n",
    "    print(\"Error: Please enter only integers.\")\n",
    "else:\n",
    "    for num in input_list:\n",
    "        if num < 0:\n",
    "            print(\"Error: Negative integers are not allowed\")\n",
    "            break\n",
    "    else:\n",
    "        print(\"The numbers that you entered are valid: \")\n",
    "        print(input_list)"
   ]
  },
  {
   "cell_type": "markdown",
   "id": "3702c2e6-9d65-4a20-9707-3d4d580838a5",
   "metadata": {},
   "source": [
    "## Write a Python program that prompts the user to input a list of integers and computes the average of those integers. Use try-except blocks to handle any exceptions that might occur.use the finally clause to print a message indicating that the program has finished running.\n"
   ]
  },
  {
   "cell_type": "code",
   "execution_count": 44,
   "id": "3b644231-f76a-416a-a6d2-85fce6d3e3b5",
   "metadata": {},
   "outputs": [
    {
     "name": "stdin",
     "output_type": "stream",
     "text": [
      "Enter a list of integers seperated by space:  1 2 3 4 5 6 7 8 9 10\n"
     ]
    },
    {
     "name": "stdout",
     "output_type": "stream",
     "text": [
      "Average: 5.50\n",
      "The program has finished running!\n"
     ]
    }
   ],
   "source": [
    "input_str = input(\"Enter a list of integers seperated by space: \")\n",
    "try:\n",
    "    input_list = [int(num) for num in input_str.split()]\n",
    "    if len(input_list) == 0:\n",
    "        raise ValueError(\"Input list is empty\")\n",
    "    average = sum(input_list) / len(input_list)    \n",
    "    print(f\"Average: {average:.2f}\")\n",
    "except ValueError as exp:\n",
    "    print(f\"Error: {exp}\")\n",
    "except Exception as exp:\n",
    "    print(f\"An unexpected error occurred: {exp}\")\n",
    "finally:\n",
    "    print(\"The program has finished running!\")"
   ]
  },
  {
   "cell_type": "markdown",
   "id": "bf5418c9-6f82-4be1-a7d6-76509a1e3149",
   "metadata": {},
   "source": [
    "## Write a Python program that prompts the user to input a filename and writes a string to that file. Use try-except blocks to handle any exceptions that might occur and print a welcome message if there is no exception occurred."
   ]
  },
  {
   "cell_type": "code",
   "execution_count": 46,
   "id": "1ab5b0c0-2fe2-4ef1-b809-4c1ea468172b",
   "metadata": {},
   "outputs": [
    {
     "name": "stdin",
     "output_type": "stream",
     "text": [
      "Enter a filename:  myfile.txt\n"
     ]
    },
    {
     "name": "stdout",
     "output_type": "stream",
     "text": [
      "Welcome! File created successfully.\n"
     ]
    }
   ],
   "source": [
    "filename = input(\"Enter a filename: \")\n",
    "try:\n",
    "    with open(filename, 'w') as file:\n",
    "        file.write(\"Hello World!\")\n",
    "    print(\"Welcome! File created successfully.\")\n",
    "except FileNotFoundError:\n",
    "    print(f\"Error: File '{filename}' not found.\")\n",
    "except PermissionError:\n",
    "    print(f\"Error: Permission denied to write to file '{filename}'.\")\n",
    "except Exception as e:\n",
    "    print(f\"An unexpected error occurred: {e}\")"
   ]
  },
  {
   "cell_type": "code",
   "execution_count": 54,
   "id": "d487bb27-706c-4ffa-aa35-d0957fe9bcec",
   "metadata": {},
   "outputs": [
    {
     "name": "stdout",
     "output_type": "stream",
     "text": [
      "Hello World!\n"
     ]
    }
   ],
   "source": [
    "with open('myfile.txt','r') as abc:\n",
    "    content=abc.read()\n",
    "    print(content)"
   ]
  },
  {
   "cell_type": "code",
   "execution_count": null,
   "id": "bc8ac467-de79-4af9-b7f0-366115c2e5ec",
   "metadata": {},
   "outputs": [],
   "source": []
  }
 ],
 "metadata": {
  "kernelspec": {
   "display_name": "Python [conda env:base] *",
   "language": "python",
   "name": "conda-base-py"
  },
  "language_info": {
   "codemirror_mode": {
    "name": "ipython",
    "version": 3
   },
   "file_extension": ".py",
   "mimetype": "text/x-python",
   "name": "python",
   "nbconvert_exporter": "python",
   "pygments_lexer": "ipython3",
   "version": "3.12.7"
  }
 },
 "nbformat": 4,
 "nbformat_minor": 5
}
