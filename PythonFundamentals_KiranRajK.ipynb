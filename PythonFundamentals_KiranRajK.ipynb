{
  "nbformat": 4,
  "nbformat_minor": 0,
  "metadata": {
    "colab": {
      "provenance": []
    },
    "kernelspec": {
      "name": "python3",
      "display_name": "Python 3"
    },
    "language_info": {
      "name": "python"
    }
  },
  "cells": [
    {
      "cell_type": "markdown",
      "source": [
        "## Python Fundamentals Assignment"
      ],
      "metadata": {
        "id": "RY4ojtQ7EPrx"
      }
    },
    {
      "cell_type": "markdown",
      "source": [
        "##### Exercise 1"
      ],
      "metadata": {
        "id": "t25dcuM742vI"
      }
    },
    {
      "cell_type": "code",
      "source": [
        "my_name='Kiran Raj K'\n",
        "my_stud_num='ABC001'\n",
        "my_email='kiran.access@gmail.com'\n",
        "print('My name is: ',my_name)\n",
        "print('My student number is: ',my_stud_num)\n",
        "print('My Email address is: ',my_email)"
      ],
      "metadata": {
        "colab": {
          "base_uri": "https://localhost:8080/"
        },
        "id": "SQasdDN845Il",
        "outputId": "b6495e03-60c9-49c4-957a-35227cb1597d"
      },
      "execution_count": null,
      "outputs": [
        {
          "output_type": "stream",
          "name": "stdout",
          "text": [
            "My name is:  Kiran Raj K\n",
            "My student number is:  ABC001\n",
            "My Email address is:  kiran.access@gmail.com\n"
          ]
        }
      ]
    },
    {
      "cell_type": "markdown",
      "source": [
        "#####  Exercise 2"
      ],
      "metadata": {
        "id": "lYQVAB3t5cfw"
      }
    },
    {
      "cell_type": "code",
      "source": [
        "print(\"My name: %s\\nMy student number: %s\\nMy Email address: %s\" % (my_name,my_stud_num, my_email))"
      ],
      "metadata": {
        "colab": {
          "base_uri": "https://localhost:8080/"
        },
        "id": "ltum14xa5d9l",
        "outputId": "6528d956-7dfe-41ed-a540-95deccb13dcf"
      },
      "execution_count": null,
      "outputs": [
        {
          "output_type": "stream",
          "name": "stdout",
          "text": [
            "My name: Kiran Raj K\n",
            "My student number: ABC001\n",
            "My Email address: kiran.access@gmail.com\n"
          ]
        }
      ]
    },
    {
      "cell_type": "markdown",
      "source": [
        "##### Exercise 3"
      ],
      "metadata": {
        "id": "v3_xKMMZ5-V1"
      }
    },
    {
      "cell_type": "code",
      "source": [
        "num_1=14\n",
        "num_2=7\n",
        "Num_add=num_1+num_2\n",
        "Num_sub=num_1-num_2\n",
        "Num_product=num_1*num_2\n",
        "Num_divide=num_1/num_2\n",
        "print('Addition:',Num_add)\n",
        "print('Subtraction:',Num_sub)\n",
        "print('Multiplication:',Num_product)\n",
        "print('Division:',Num_divide)"
      ],
      "metadata": {
        "colab": {
          "base_uri": "https://localhost:8080/"
        },
        "id": "cBPmP8-R6AYr",
        "outputId": "5a654324-7a06-4c94-b4a9-39c144d0ec3a"
      },
      "execution_count": null,
      "outputs": [
        {
          "output_type": "stream",
          "name": "stdout",
          "text": [
            "Addition: 21\n",
            "Subtraction: 7\n",
            "Multiplication: 98\n",
            "Division: 2.0\n"
          ]
        }
      ]
    },
    {
      "cell_type": "markdown",
      "source": [
        "##### Exercise 4"
      ],
      "metadata": {
        "id": "oHdtrS8S6x-q"
      }
    },
    {
      "cell_type": "code",
      "source": [
        "for i in range(1,6):\n",
        "  print(i)\n"
      ],
      "metadata": {
        "colab": {
          "base_uri": "https://localhost:8080/"
        },
        "id": "s7Z5EpNn6XvA",
        "outputId": "447bbd26-0da5-400d-a2fd-df9a278436d8"
      },
      "execution_count": null,
      "outputs": [
        {
          "output_type": "stream",
          "name": "stdout",
          "text": [
            "1\n",
            "2\n",
            "3\n",
            "4\n",
            "5\n"
          ]
        }
      ]
    },
    {
      "cell_type": "markdown",
      "source": [
        "##### Exercise 5"
      ],
      "metadata": {
        "id": "TLi0O4eX7Doq"
      }
    },
    {
      "cell_type": "code",
      "source": [
        "print('\"SDK stands for \"Software Development Kit\", whereas \\n\"IDE\" stands for \"Integrated Development Environment\".')"
      ],
      "metadata": {
        "colab": {
          "base_uri": "https://localhost:8080/"
        },
        "id": "TE6WKc657Hj_",
        "outputId": "0f956568-10fd-437f-87d6-e1ff874f3c04"
      },
      "execution_count": null,
      "outputs": [
        {
          "output_type": "stream",
          "name": "stdout",
          "text": [
            "\"SDK stands for \"Software Development Kit\", whereas \n",
            "\"IDE\" stands for \"Integrated Development Environment\".\n"
          ]
        }
      ]
    },
    {
      "cell_type": "markdown",
      "source": [
        "##### Exercise 6"
      ],
      "metadata": {
        "id": "-WNa8EpF7qoA"
      }
    },
    {
      "cell_type": "code",
      "source": [
        "print(\"python is an \\\"awesome\\\" language.\")\n",
        "print(\"python\\n\\t2023\")\n",
        "print('I\\'m from Entri.\\b')\n",
        "print(\"\\65\")\n",
        "print(\"\\x65\")\n",
        "print(\"Entri\", \"2023\", sep=\"\\n\")\n",
        "print(\"Entri\", \"2023\", sep=\"\\b\")\n",
        "print(\"Entri\", \"2023\", sep=\"*\", end=\"\\b\\b\\b\\b\")"
      ],
      "metadata": {
        "colab": {
          "base_uri": "https://localhost:8080/"
        },
        "id": "kybRog5U7vTB",
        "outputId": "ea2892c1-c68f-4a06-e4d5-271f4df951a9"
      },
      "execution_count": null,
      "outputs": [
        {
          "output_type": "stream",
          "name": "stdout",
          "text": [
            "python is an \"awesome\" language.\n",
            "python\n",
            "\t2023\n",
            "I'm from Entri.\b\n",
            "5\n",
            "e\n",
            "Entri\n",
            "2023\n",
            "Entri\b2023\n",
            "Entri*2023\b\b\b\b"
          ]
        }
      ]
    },
    {
      "cell_type": "markdown",
      "source": [
        "##### Exercise 7"
      ],
      "metadata": {
        "id": "l__fTpCW8yjg"
      }
    },
    {
      "cell_type": "code",
      "source": [
        "num=23\n",
        "textnum=\"57\"\n",
        "decimal=98.3\n",
        "print('The datatype of the variable num is:',type(num))\n",
        "print('The datatype of the variable textnum is:',type(textnum))\n",
        "print('The datatype of the variable decimal is:',type(decimal))\n",
        "sum=num+int(textnum)+decimal\n",
        "print('The sum of the variables is: ',sum)\n",
        "print('The datatype of the variable sum is:',type(sum))\n",
        "print('Note: Unless we change the datatype of the variable textnum to int, it throws an error.')"
      ],
      "metadata": {
        "colab": {
          "base_uri": "https://localhost:8080/"
        },
        "id": "5P7xw9km84da",
        "outputId": "fe0fe4e1-6e1a-4f49-c4e8-f93a02ed991d"
      },
      "execution_count": null,
      "outputs": [
        {
          "output_type": "stream",
          "name": "stdout",
          "text": [
            "The datatype of the variable num is: <class 'int'>\n",
            "The datatype of the variable textnum is: <class 'str'>\n",
            "The datatype of the variable decimal is: <class 'float'>\n",
            "The sum of the variables is:  178.3\n",
            "The datatype of the variable sum is: <class 'float'>\n",
            "Note: Unless we change the datatype of the variable textnum to int, it throws an error.\n"
          ]
        }
      ]
    },
    {
      "cell_type": "markdown",
      "source": [],
      "metadata": {
        "id": "_4FOvDzO6vjA"
      }
    },
    {
      "cell_type": "markdown",
      "source": [
        "##### Exercise 8"
      ],
      "metadata": {
        "id": "MKRSe2e4-c3a"
      }
    },
    {
      "cell_type": "code",
      "source": [
        "num_of_days_nonleap=365\n",
        "num_of_days_leap=366\n",
        "num_of_hours_in_day=24\n",
        "num_of_min_in_hour=60\n",
        "num_of_min_in_day=num_of_hours_in_day*num_of_min_in_hour\n",
        "num_min_nonleap=num_of_days_nonleap*num_of_min_in_day\n",
        "num_min_leap=num_of_days_leap*num_of_min_in_day\n",
        "print('The number of miniutes in a non-leap year is:',num_min_nonleap)\n",
        "print('The number of miniutes in a leap year is:',num_min_leap)"
      ],
      "metadata": {
        "colab": {
          "base_uri": "https://localhost:8080/"
        },
        "id": "2R-fvGgY-hC-",
        "outputId": "64484b9b-f4ba-4e6b-94b6-c996cc3da9b9"
      },
      "execution_count": null,
      "outputs": [
        {
          "output_type": "stream",
          "name": "stdout",
          "text": [
            "The number of miniutes in a non-leap year is: 525600\n",
            "The number of miniutes in a leap year is: 527040\n"
          ]
        }
      ]
    },
    {
      "cell_type": "markdown",
      "source": [
        "##### Exercise 9"
      ],
      "metadata": {
        "id": "ORZQOyk4AKgJ"
      }
    },
    {
      "cell_type": "code",
      "source": [
        "myname=str(input('Please enter your name:\\n',))\n",
        "print('Hi %s, welcome to Python programming!'%myname)"
      ],
      "metadata": {
        "colab": {
          "base_uri": "https://localhost:8080/"
        },
        "id": "8CtcGBIXANlq",
        "outputId": "6c8ebdf9-4fa7-4e78-8b23-e7e738e0edf9"
      },
      "execution_count": null,
      "outputs": [
        {
          "output_type": "stream",
          "name": "stdout",
          "text": [
            "Please enter your name:\n",
            "Lakshya Kiran\n",
            "Hi Lakshya Kiran, welcome to Python programming!\n"
          ]
        }
      ]
    },
    {
      "cell_type": "markdown",
      "source": [
        "##### Exercise 10"
      ],
      "metadata": {
        "id": "CmTVkqIyBptG"
      }
    },
    {
      "cell_type": "code",
      "source": [
        "#Name of the file: PoundsToDollars.py\n",
        "pound=float(input('Please enter the amount in pounds: '))\n",
        "exchangerate=1.21 #As on 13/01/2025 18:40 KST\n",
        "dollars=pound*exchangerate\n",
        "#print('%f \\x9c is %f $'%pound %dollars)\n",
        "print(f\"{pound:0.2f} \\u00a3 is {dollars:0.2f} $\")"
      ],
      "metadata": {
        "colab": {
          "base_uri": "https://localhost:8080/"
        },
        "id": "zBnXZfQjBOUD",
        "outputId": "929cf188-bb77-4804-aaed-622edc2c6d1a"
      },
      "execution_count": null,
      "outputs": [
        {
          "output_type": "stream",
          "name": "stdout",
          "text": [
            "Please enter the amount in pounds: 100\n",
            "100.00 £ is 121.00 $\n"
          ]
        }
      ]
    }
  ]
}