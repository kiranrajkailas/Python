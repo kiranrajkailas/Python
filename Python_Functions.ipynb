{
  "nbformat": 4,
  "nbformat_minor": 0,
  "metadata": {
    "colab": {
      "provenance": []
    },
    "kernelspec": {
      "name": "python3",
      "display_name": "Python 3"
    },
    "language_info": {
      "name": "python"
    }
  },
  "cells": [
    {
      "cell_type": "markdown",
      "source": [],
      "metadata": {
        "id": "zrXiFNuIlfKI"
      }
    },
    {
      "cell_type": "markdown",
      "source": [
        "##### Question 1"
      ],
      "metadata": {
        "id": "DVrFYTCOlh2W"
      }
    },
    {
      "cell_type": "code",
      "execution_count": 1,
      "metadata": {
        "id": "VwUFK-jjlX8x"
      },
      "outputs": [],
      "source": [
        "import numpy as np"
      ]
    },
    {
      "cell_type": "code",
      "source": [
        "mylist1= [10,20,30,40,50,60]\n",
        "list_len=len(mylist1)\n",
        "print('The length of the created list is: ', list_len)"
      ],
      "metadata": {
        "colab": {
          "base_uri": "https://localhost:8080/"
        },
        "id": "rhAZwoaVlqXw",
        "outputId": "5e54917d-11ba-439e-b645-2032b92a3acb"
      },
      "execution_count": 6,
      "outputs": [
        {
          "output_type": "stream",
          "name": "stdout",
          "text": [
            "The length of the created list is:  6\n"
          ]
        }
      ]
    },
    {
      "cell_type": "markdown",
      "source": [
        "##### Question 2"
      ],
      "metadata": {
        "id": "YbyRjdpyp09e"
      }
    },
    {
      "cell_type": "code",
      "source": [
        "def greet(name):\n",
        "  print(f'Hello, {name}!')\n",
        "greet('Kiran')"
      ],
      "metadata": {
        "colab": {
          "base_uri": "https://localhost:8080/"
        },
        "id": "MwgSz1jepfdn",
        "outputId": "e6667b69-921f-4f25-ea9a-b3989c725d45"
      },
      "execution_count": 8,
      "outputs": [
        {
          "output_type": "stream",
          "name": "stdout",
          "text": [
            "Hello, Kiran!\n"
          ]
        }
      ]
    },
    {
      "cell_type": "markdown",
      "source": [
        "##### Question 3"
      ],
      "metadata": {
        "id": "Q8augo03sUAU"
      }
    },
    {
      "cell_type": "code",
      "source": [
        "def find_maximum(numbers):\n",
        "  max_val=numbers[0]\n",
        "  for i in numbers[1:]:\n",
        "      if i>max_val:\n",
        "        max_val=i\n",
        "  return max_val\n",
        "numbers=[58,87,110,32,0,1000,14,190,377]\n",
        "max_val=find_maximum(numbers)\n",
        "print(\"The maximum value in the list is:\", max_val)"
      ],
      "metadata": {
        "colab": {
          "base_uri": "https://localhost:8080/"
        },
        "id": "9DxD0IPpqDl9",
        "outputId": "c11093e8-fdc4-4ea3-8ca2-a0a1bfac611c"
      },
      "execution_count": 15,
      "outputs": [
        {
          "output_type": "stream",
          "name": "stdout",
          "text": [
            "The maximum value in the list is: 1000\n"
          ]
        }
      ]
    },
    {
      "cell_type": "markdown",
      "source": [
        "##### Question 4"
      ],
      "metadata": {
        "id": "mr6kIXaTsZON"
      }
    },
    {
      "cell_type": "markdown",
      "source": [
        "##### A global variable is declared outside any function or loop and can be accessed by the function that follows from the declaration point. However, a local variable can only be accessed within a function or a block of code and it can be accessed only within that function or block. We cannot access this variable from outside this block or function. Given example demonstrate this concept."
      ],
      "metadata": {
        "id": "duBLEa6Fsndb"
      }
    },
    {
      "cell_type": "code",
      "source": [
        "myvar = 10 #Globally declared\n",
        "def globalvslocal_variable():\n",
        "    myvar=20.5 #Locally declared\n",
        "    print(\"The local variable  takes the value (during function call):\", myvar)\n",
        "\n",
        "print(\"Global variable takes a value (before function execution):\", myvar)\n",
        "globalvslocal_variable() #Function execution\n",
        "print(\"Global variable takes a value (after function execution):\", myvar)\n",
        "print(\"Takeaway:\\n The global variable does not change it's value even after the function is executed.\")"
      ],
      "metadata": {
        "colab": {
          "base_uri": "https://localhost:8080/"
        },
        "id": "3fEyfx1zqpte",
        "outputId": "1191ca65-ced4-460b-8b38-5d4e31fd1131"
      },
      "execution_count": 33,
      "outputs": [
        {
          "output_type": "stream",
          "name": "stdout",
          "text": [
            "Global variable takes a value (before function execution): 10\n",
            "The local variable  takes the value (during function call): 20.5\n",
            "Global variable takes a value (after function execution): 10\n",
            "Takeaway:\n",
            " The global variable does not change it's value even after the function is executed.\n"
          ]
        }
      ]
    },
    {
      "cell_type": "markdown",
      "source": [
        "##### Question 5"
      ],
      "metadata": {
        "id": "TbcAhf4-uzgF"
      }
    },
    {
      "cell_type": "code",
      "source": [
        "def calculate_area(length,width=5):\n",
        "  area=length*width\n",
        "  return area\n",
        "  #print(f'The area of the rectangle with length {length} and width {width} is: ',area)\n",
        "width_notgiven=calculate_area(5)\n",
        "width_given=calculate_area(5,7)\n",
        "print('The area of the rectangle calculated with the no-width argument is:',width_notgiven)\n",
        "print('The area of the rectangle calculated with the width argument is:',width_given)"
      ],
      "metadata": {
        "colab": {
          "base_uri": "https://localhost:8080/"
        },
        "id": "fZli3ILHuPo2",
        "outputId": "9c2868ac-c40e-4314-87da-c862bd2bdc5e"
      },
      "execution_count": 32,
      "outputs": [
        {
          "output_type": "stream",
          "name": "stdout",
          "text": [
            "The area of the rectangle calculated with the no-width argument is: 25\n",
            "The area of the rectangle calculated with the width argument is: 35\n"
          ]
        }
      ]
    },
    {
      "cell_type": "code",
      "source": [],
      "metadata": {
        "id": "zzuntn-6vGe1"
      },
      "execution_count": null,
      "outputs": []
    }
  ]
}