{
 "cells": [
  {
   "cell_type": "markdown",
   "id": "45cf6aab-0c07-4099-a96d-7997f4195722",
   "metadata": {},
   "source": [
    "## University's Course Catalog: Using Classes"
   ]
  },
  {
   "cell_type": "markdown",
   "id": "71db7307-22b0-423e-9311-d4e3fe7a584d",
   "metadata": {},
   "source": [
    "##### Build a program to manage a university's course catalog. You want to define a base class Course that has the following properties:\n",
    "course_code: a string representing the course code (e.g., \"CS101\")\n",
    "course_name: a string representing the course name (e.g., \"Introduction to Computer Science\")\n",
    "credit_hours: an integer representing the credit hours for the course (e.g., 3)\n",
    "You also want to define two subclasses CoreCourse and ElectiveCourse, which inherit from the Course class.\n",
    "CoreCourse should have an additional property required_for_major which is a boolean representing whether the course is required for a particular major.\n",
    "ElectiveCourse should have an additional property elective_type which is a string representing the type of elective (e.g., \"general\", \"technical\", \"liberal arts\")."
   ]
  },
  {
   "cell_type": "code",
   "execution_count": 16,
   "id": "9de75170-2276-433f-8cd9-41ffb38f97d4",
   "metadata": {},
   "outputs": [
    {
     "name": "stdout",
     "output_type": "stream",
     "text": [
      "CS101: Introduction to Computer Science (23 credit hours)\n",
      "CS101: Introduction to Computer Science (23 credit hours) - Required for major: True\n",
      "CS201: Ethical Hacking (13 credit hours) - Elective type: Technical\n",
      "PE201: Professional Ethics and Social Values (13 credit hours) - Elective type: General\n"
     ]
    }
   ],
   "source": [
    "class Course:\n",
    "    def __init__(self, course_code, course_name, credit_hours):\n",
    "        self.course_code = course_code\n",
    "        self.course_name = course_name\n",
    "        self.credit_hours = credit_hours\n",
    "    def __str__(self):\n",
    "        return f\"{self.course_code}: {self.course_name} ({self.credit_hours} credit hours)\"\n",
    "class CoreCourse(Course):\n",
    "    def __init__(self, course_code, course_name, credit_hours, required_for_major):\n",
    "        super().__init__(course_code, course_name, credit_hours)\n",
    "        self.required_for_major = required_for_major\n",
    "    def __str__(self):\n",
    "        return f\"{super().__str__()} - Required for major: {self.required_for_major}\"\n",
    "class ElectiveCourse(Course):\n",
    "    def __init__(self, course_code, course_name, credit_hours, elective_type):\n",
    "        super().__init__(course_code, course_name, credit_hours)\n",
    "        self.elective_type = elective_type\n",
    "    def __str__(self):\n",
    "        return f\"{super().__str__()} - Elective type: {self.elective_type}\"\n",
    "#-----------------------------------------------------------------------------------------------\n",
    "course=Course(\"CS101\", \"Introduction to Computer Science\", 23)\n",
    "core_course = CoreCourse(\"CS101\", \"Introduction to Computer Science\", 23, True)\n",
    "elective_course = ElectiveCourse(\"CS201\", \"Ethical Hacking\", 13, \"Technical\")\n",
    "elective_course2= ElectiveCourse(\"PE201\", \"Professional Ethics and Social Values\", 13, \"General\")\n",
    "print(course)\n",
    "print(core_course)\n",
    "print(elective_course)\n",
    "print(elective_course2)"
   ]
  },
  {
   "cell_type": "markdown",
   "id": "dfbca893-fc0a-4799-81e0-b22b90f4566c",
   "metadata": {},
   "source": [
    "##### Create a Python module named employee that contains a class Employee with attributes name, salary and methods get_name() and get_salary(). Write a program to use this module to create an object of the Employee class and display its name and salary."
   ]
  },
  {
   "cell_type": "code",
   "execution_count": 19,
   "id": "0d84d558-e7ca-4e26-a02b-7e3f7b62583a",
   "metadata": {},
   "outputs": [],
   "source": [
    "class Employee:\n",
    "    def __init__(self, name, salary):\n",
    "        self.name = name\n",
    "        self.salary = salary\n",
    "    def get_name(self):\n",
    "        return self.name\n",
    "    def get_salary(self):\n",
    "        return self.salary"
   ]
  },
  {
   "cell_type": "code",
   "execution_count": 25,
   "id": "41f63bc7-bbb7-4258-bb1c-1ca6d00f6657",
   "metadata": {},
   "outputs": [
    {
     "name": "stdout",
     "output_type": "stream",
     "text": [
      "Employee Name: Sanju Samson\n",
      "Employee's Salary per month in INR is: 500000.0\n"
     ]
    }
   ],
   "source": [
    "emp = Employee(\"Sanju Samson\", 500000.0)\n",
    "print(\"Employee Name:\", emp.get_name())\n",
    "print(\"Employee's Salary per month in INR is:\", emp.get_salary())"
   ]
  },
  {
   "cell_type": "code",
   "execution_count": null,
   "id": "5e736d17-208f-4e84-9645-806aa5f73f6a",
   "metadata": {},
   "outputs": [],
   "source": []
  }
 ],
 "metadata": {
  "kernelspec": {
   "display_name": "Python [conda env:base] *",
   "language": "python",
   "name": "conda-base-py"
  },
  "language_info": {
   "codemirror_mode": {
    "name": "ipython",
    "version": 3
   },
   "file_extension": ".py",
   "mimetype": "text/x-python",
   "name": "python",
   "nbconvert_exporter": "python",
   "pygments_lexer": "ipython3",
   "version": "3.12.7"
  }
 },
 "nbformat": 4,
 "nbformat_minor": 5
}
